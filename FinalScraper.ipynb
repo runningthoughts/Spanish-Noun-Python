{
 "cells": [
  {
   "cell_type": "markdown",
   "id": "18a68282-61dd-402a-939f-b4e36b1c8030",
   "metadata": {},
   "source": [
    "# Web Scraper\n",
    "This is a dead simple app that is simply meant to help me learn basic Python capabilities.  I am enlisting Claude to help wtih this module as well to serve as a teacher and accelerator.  Hence, everything in here is hard-coded.\n",
    "\n",
    "## Purpose\n",
    "The purpose of this module is simply to extract a list of the top 2000 nouns and their gender in Spanish from a blog entry I found.  Later I will run statistics on that (from a separate app) to generate some simple statistics.  The output will go into a CSV file."
   ]
  },
  {
   "cell_type": "code",
   "execution_count": 2,
   "id": "43936f18-607c-4186-a215-4e13356c637f",
   "metadata": {},
   "outputs": [],
   "source": [
    "import requests\n",
    "from bs4 import BeautifulSoup\n",
    "import csv\n",
    "import re\n",
    "\n",
    "# URL of the webpage you want to scrape\n",
    "url = \"https://frequencylists.blogspot.com/2015/12/the-2000-most-frequently-used-spanish.html\"  # Replace with the actual URL you want to scrape\n",
    "\n",
    "# Send a GET request to the URL\n",
    "response = requests.get(url)\n",
    "response.encoding = 'utf-8'  # Explicitly set encoding to UTF-8\n",
    "\n",
    "# Parse the HTML content\n",
    "soup = BeautifulSoup(response.text, 'html.parser')\n",
    "\n",
    "# Extract all text from the page\n",
    "all_text = soup.get_text()"
   ]
  },
  {
   "cell_type": "markdown",
   "id": "f20e1957-25ea-4f16-89ba-0ac287901396",
   "metadata": {},
   "source": [
    "## Trimming\n",
    "The hard-coded site above has specific formatting that needs to be dealt with.  First we need to trim off lines that are not useful to us, some before and some after."
   ]
  },
  {
   "cell_type": "code",
   "execution_count": 4,
   "id": "6a9418f5-6d24-406e-8a59-fe788bdfa08e",
   "metadata": {},
   "outputs": [],
   "source": [
    "# Split the text into lines and clean them\n",
    "lines = all_text.split('\\n')\n",
    "lines = [line.strip() for line in lines if line.strip()]\n",
    "lines = lines[5:-13]  # Remove the first 5 and last 13 lines"
   ]
  },
  {
   "cell_type": "markdown",
   "id": "023d47da-ae18-44c8-8de2-76c943750e2b",
   "metadata": {},
   "source": [
    "## Parsing\n",
    "The Parse_Entry function is the main part here.  There are four main formats for the list that need to be dealt with.  The author of the blog article was not totally consistent in the way they conveyed the data.  Four formats capture more than 99% of the list.  The remainder amount to a few entries, so rather than code up every last permutation, we'll just throw those out, as it will have an insignificant effect on the statistics we will generate later.\n",
    "\n",
    "### Supported Formats\n",
    "1.  ``word - palabra - gender``\n",
    "2.  ``word - palabra - gender / palabra - gender``\n",
    "3.  ``word - palabro/palabra - masculine/feminine``\n",
    "4.  ``word - palabro/a - masculine/feminine``\n",
    "\n",
    "The first one accounts for the bulk of the entries.  The remaining three are mostly variations of the same thing- words that change slightly in spelling for the other gender.  Typically, in Spanish, nouns ending in \"o\" are masculine and words ending in \"a\" are feminine.  But not always.  *While \"palabro\" is not a word, but is meant to show that when it is used in these last two formats, the word ending in \"o\" is always masculine in these cases.*\n",
    "\n",
    "In all cases, the English word is discarded as we only want to run stats on the Spanish words.  The result is that the output will always be for these formats:\n",
    "\n",
    "``word - palabra- gender                        ``&rarr;`` palabra,gender``\\\n",
    "*The gender may be masculine, feminine or masculine/feminine. In the latter case, gender will be set to \"both\"*\n",
    "\n",
    "``word - palabra - gender / palabra - gender  |``\\\n",
    "``word - palabro/palabra - masculine/feminine | ``&rarr;`` | palabro,gender``\\\n",
    "``word - palabro/a - masculine/feminine       |     | palabra,gender``\n",
    "\n",
    "with the latter formats resulting in splitting into two outputs lines.\n",
    "\n",
    "Remaining formats number less than 20 lines and will be discarded."
   ]
  },
  {
   "cell_type": "code",
   "execution_count": 6,
   "id": "774a3874-0760-4f14-a63c-7a50a41742a3",
   "metadata": {},
   "outputs": [],
   "source": [
    "# Filter out lines with parentheses\n",
    "lines = [line for line in lines if '(' not in line and ')' not in line and 'plural' not in line and ',' not in line]\n",
    "\n",
    "def parse_entry(entry):\n",
    "    parts = [part.strip() for part in re.split('[-/]',entry)]\n",
    "    numSlashes = entry.count('/')\n",
    "    numParts = len(parts)\n",
    "    results = []\n",
    " \n",
    "    if numParts < 3:\n",
    "        print(f\"Skipping invalid entry: {entry}\")\n",
    "        return results\n",
    "    \n",
    "    # In all cases, discard parts[0]- the English word   \n",
    "    # Case 1: word - palabra - gender, the most common format\n",
    "    if numParts == 3:\n",
    "        results.append((parts[1],parts[2]))\n",
    "\n",
    "    # Case 2: word - palabra - both\n",
    "    elif numParts == 4:\n",
    "        if parts[2] == \"masculine\" and parts[3] == \"feminine\":\n",
    "            results.append((parts[1], \"both\"))\n",
    "\n",
    "    # Case 3: word - palabra - gender / palabra - gender\n",
    "    elif numParts == 5 and numSlashes == 1:\n",
    "        results.append((parts[1],parts[2]))\n",
    "        results.append((parts[3],parts[4]))\n",
    "\n",
    "    # Case 4: word - palabro/a - masculine/feminine\n",
    "    elif numParts == 5 and \"o/a\" in entry:\n",
    "        results.append((parts[1],parts[3]))\n",
    "        results.append((parts[1][:-1]+'a',parts[4]))\n",
    "        \n",
    "    # Case 5: word - palabra/palabra - gender/gender\n",
    "    elif numParts == 5 and numSlashes == 2:\n",
    "        results.append((parts[1],parts[3]))\n",
    "        results.append((parts[2],parts[4]))\n",
    "\n",
    "    return results"
   ]
  },
  {
   "cell_type": "markdown",
   "id": "b462361b-5dd6-4297-ace6-296c2416fae5",
   "metadata": {},
   "source": [
    "## Main Part\n",
    "Now we have the pure list, let's loop through it and parse it!"
   ]
  },
  {
   "cell_type": "code",
   "execution_count": 12,
   "id": "6f16e9b7-08bd-4733-a7c7-10da98d03e7f",
   "metadata": {},
   "outputs": [
    {
     "name": "stdout",
     "output_type": "stream",
     "text": [
      "Number of parsed entries: 2008\n",
      "First few parsed entries:\n",
      "('tiempo', 'masculine')\n",
      "('hombre', 'masculine')\n",
      "('camino', 'masculine')\n",
      "('gente', 'feminine')\n",
      "('vida', 'feminine')\n",
      "Data has been parsed and saved to parsed_spanish_words.csv\n"
     ]
    }
   ],
   "source": [
    "# Parse all lines\n",
    "parsed_data = []\n",
    "for line in lines:\n",
    "    parsed_entries = parse_entry(line)\n",
    "    parsed_data.extend(parsed_entries)\n",
    "\n",
    "print(f\"Number of parsed entries: {len(parsed_data)}\")\n",
    "if parsed_data:\n",
    "    print(\"First few parsed entries:\")\n",
    "    for entry in parsed_data[:5]:\n",
    "        print(entry)\n",
    "else:\n",
    "    print(\"No entries were successfully parsed.\")\n",
    "\n",
    "# Save the data to a CSV file\n",
    "with open('parsed_spanish_words.csv', 'w', newline='', encoding='utf-8') as file:\n",
    "    writer = csv.writer(file)\n",
    "    # writer.writerow(['Spanish Word', 'Gender'])  # Write header\n",
    "    writer.writerows(parsed_data)\n",
    "\n",
    "print(\"Data has been parsed and saved to parsed_spanish_words.csv\")"
   ]
  }
 ],
 "metadata": {
  "kernelspec": {
   "display_name": "Python 3 (ipykernel)",
   "language": "python",
   "name": "python3"
  },
  "language_info": {
   "codemirror_mode": {
    "name": "ipython",
    "version": 3
   },
   "file_extension": ".py",
   "mimetype": "text/x-python",
   "name": "python",
   "nbconvert_exporter": "python",
   "pygments_lexer": "ipython3",
   "version": "3.12.4"
  }
 },
 "nbformat": 4,
 "nbformat_minor": 5
}
